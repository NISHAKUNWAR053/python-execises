{
 "cells": [
  {
   "cell_type": "code",
   "execution_count": 1,
   "id": "28a3b26a",
   "metadata": {},
   "outputs": [
    {
     "data": {
      "application/javascript": [
       "IPython.notebook.set_autosave_interval(0)"
      ]
     },
     "metadata": {},
     "output_type": "display_data"
    },
    {
     "name": "stdout",
     "output_type": "stream",
     "text": [
      "Autosave disabled\n"
     ]
    }
   ],
   "source": [
    "%autosave 0"
   ]
  },
  {
   "cell_type": "markdown",
   "id": "a2c67dc6",
   "metadata": {},
   "source": [
    "Numpy makes it easy for us to work with large amounts of numerical data in arrays. Many other libraries (including Pandas) are built on Numpy. It's important to be familiar working with this library in order to understand the functionality of the other libraries."
   ]
  },
  {
   "cell_type": "code",
   "execution_count": 2,
   "id": "5dd07665",
   "metadata": {},
   "outputs": [],
   "source": [
    "#standard import\n",
    "import numpy as np"
   ]
  },
  {
   "cell_type": "markdown",
   "id": "59e02592",
   "metadata": {},
   "source": [
    "We create Numpy arrays with the np.array function. Inside the function, we can pass a list as the argument."
   ]
  },
  {
   "cell_type": "code",
   "execution_count": 4,
   "id": "ca2086f2",
   "metadata": {},
   "outputs": [
    {
     "data": {
      "text/plain": [
       "array([1, 2, 3, 4, 5])"
      ]
     },
     "execution_count": 4,
     "metadata": {},
     "output_type": "execute_result"
    }
   ],
   "source": [
    " array = np.array([1,2,3,4,5])\n",
    "array"
   ]
  },
  {
   "cell_type": "markdown",
   "id": "b499fc7c",
   "metadata": {},
   "source": [
    "We can index a Numpy array, much like a list!"
   ]
  },
  {
   "cell_type": "code",
   "execution_count": 5,
   "id": "9a786ae8",
   "metadata": {},
   "outputs": [
    {
     "data": {
      "text/plain": [
       "1"
      ]
     },
     "execution_count": 5,
     "metadata": {},
     "output_type": "execute_result"
    }
   ],
   "source": [
    "array[0]"
   ]
  },
  {
   "cell_type": "code",
   "execution_count": 6,
   "id": "ee37e9bd",
   "metadata": {},
   "outputs": [
    {
     "data": {
      "text/plain": [
       "array([3, 4, 5])"
      ]
     },
     "execution_count": 6,
     "metadata": {},
     "output_type": "execute_result"
    }
   ],
   "source": [
    "array[2:]"
   ]
  },
  {
   "cell_type": "code",
   "execution_count": 8,
   "id": "3b61e053",
   "metadata": {},
   "outputs": [
    {
     "data": {
      "text/plain": [
       "array([3, 4, 5])"
      ]
     },
     "execution_count": 8,
     "metadata": {},
     "output_type": "execute_result"
    }
   ],
   "source": [
    "array[-3:]"
   ]
  },
  {
   "cell_type": "code",
   "execution_count": 9,
   "id": "a2a60ad6",
   "metadata": {},
   "outputs": [
    {
     "data": {
      "text/plain": [
       "array([1, 2])"
      ]
     },
     "execution_count": 9,
     "metadata": {},
     "output_type": "execute_result"
    }
   ],
   "source": [
    "array[:-3]"
   ]
  },
  {
   "cell_type": "markdown",
   "id": "25065141",
   "metadata": {},
   "source": [
    "Vectorized operations allow us to perform a mathematical operation on EVERY number in an array.\n",
    "\n",
    "Let's compare how we could do the same thing with a list and a Numpy array."
   ]
  },
  {
   "cell_type": "code",
   "execution_count": 10,
   "id": "81a1286f",
   "metadata": {},
   "outputs": [
    {
     "data": {
      "text/plain": [
       "array([10, 20, 30, 40, 50])"
      ]
     },
     "execution_count": 10,
     "metadata": {},
     "output_type": "execute_result"
    }
   ],
   "source": [
    "array * 10"
   ]
  },
  {
   "cell_type": "code",
   "execution_count": 11,
   "id": "e04c3da6",
   "metadata": {
    "scrolled": true
   },
   "outputs": [
    {
     "data": {
      "text/plain": [
       "array([      1,    1024,   59049, 1048576, 9765625])"
      ]
     },
     "execution_count": 11,
     "metadata": {},
     "output_type": "execute_result"
    }
   ],
   "source": [
    "array ** 10"
   ]
  },
  {
   "cell_type": "code",
   "execution_count": 12,
   "id": "d732e164",
   "metadata": {},
   "outputs": [],
   "source": [
    "my_list = [1,2,3,4,5]"
   ]
  },
  {
   "cell_type": "code",
   "execution_count": 15,
   "id": "3de60804",
   "metadata": {},
   "outputs": [
    {
     "data": {
      "text/plain": [
       "[10, 20, 30, 40, 50]"
      ]
     },
     "execution_count": 15,
     "metadata": {},
     "output_type": "execute_result"
    }
   ],
   "source": [
    "empty_list = []\n",
    "for num in my_list:\n",
    "    empty_list.append(num*10)\n",
    "empty_list\n",
    "#this is why we use np it s very handy"
   ]
  },
  {
   "cell_type": "markdown",
   "id": "ee7038d5",
   "metadata": {},
   "source": [
    "Boolean masking is an important concept we will apply consistently with Pandas. We will get back an array filled with Boolean values, and use it to MASK (hide or remove) certain values from the output."
   ]
  },
  {
   "cell_type": "code",
   "execution_count": 16,
   "id": "ae2e9ec1",
   "metadata": {
    "scrolled": true
   },
   "outputs": [
    {
     "data": {
      "text/plain": [
       "array([False, False, False,  True,  True])"
      ]
     },
     "execution_count": 16,
     "metadata": {},
     "output_type": "execute_result"
    }
   ],
   "source": [
    "array > 3"
   ]
  },
  {
   "cell_type": "code",
   "execution_count": 18,
   "id": "45c18e0c",
   "metadata": {},
   "outputs": [
    {
     "data": {
      "text/plain": [
       "array([False, False, False,  True,  True])"
      ]
     },
     "execution_count": 18,
     "metadata": {},
     "output_type": "execute_result"
    }
   ],
   "source": [
    "mask = array > 3\n",
    "mask"
   ]
  },
  {
   "cell_type": "code",
   "execution_count": 19,
   "id": "5d24ca55",
   "metadata": {},
   "outputs": [
    {
     "data": {
      "text/plain": [
       "array([4, 5])"
      ]
     },
     "execution_count": 19,
     "metadata": {},
     "output_type": "execute_result"
    }
   ],
   "source": [
    "array[mask]\n",
    "#you get back if it is true"
   ]
  },
  {
   "cell_type": "code",
   "execution_count": 20,
   "id": "349cff4e",
   "metadata": {},
   "outputs": [
    {
     "data": {
      "text/plain": [
       "array([1, 2])"
      ]
     },
     "execution_count": 20,
     "metadata": {},
     "output_type": "execute_result"
    }
   ],
   "source": [
    "array[array < 3]"
   ]
  },
  {
   "cell_type": "markdown",
   "id": "2e03f7d8",
   "metadata": {},
   "source": [
    "We can create arrays from the standard normal distribution (mean of 0, standard deviation of 1) using np.random.randn. We specify the shape of the resulting array as the argument for the function."
   ]
  },
  {
   "cell_type": "code",
   "execution_count": 24,
   "id": "4a6b977e",
   "metadata": {},
   "outputs": [
    {
     "data": {
      "text/plain": [
       "array([ 0.91752251, -1.36058188, -1.42946968, -0.11499543, -0.17093958])"
      ]
     },
     "execution_count": 24,
     "metadata": {},
     "output_type": "execute_result"
    }
   ],
   "source": [
    "st_norm = np.random.randn(5)\n",
    "st_norm"
   ]
  },
  {
   "cell_type": "code",
   "execution_count": 26,
   "id": "cfba00bf",
   "metadata": {},
   "outputs": [
    {
     "data": {
      "text/plain": [
       "array([[ 0.73164875,  0.13993239,  2.1357153 ],\n",
       "       [-1.74507757, -1.33665665,  0.84178058],\n",
       "       [-0.00578514,  1.69163307,  1.74176759]])"
      ]
     },
     "execution_count": 26,
     "metadata": {},
     "output_type": "execute_result"
    }
   ],
   "source": [
    "np.random.randn(3,3)"
   ]
  },
  {
   "cell_type": "markdown",
   "id": "7bb79d65",
   "metadata": {},
   "source": [
    "We can create arrays from other normal distributions using np.random.normal. To this function, we will pass in arguments specifying the mean, the standard deviation, and the size of the resulting array."
   ]
  },
  {
   "cell_type": "code",
   "execution_count": 29,
   "id": "52f2ba1b",
   "metadata": {},
   "outputs": [
    {
     "data": {
      "text/plain": [
       "array([29.7878754 , 27.69388898, 25.10374561, 23.54279321, 33.86404296])"
      ]
     },
     "execution_count": 29,
     "metadata": {},
     "output_type": "execute_result"
    }
   ],
   "source": [
    "my_norm = np.random.normal(30,5, 5)\n",
    "my_norm"
   ]
  },
  {
   "cell_type": "code",
   "execution_count": 30,
   "id": "c44b179c",
   "metadata": {},
   "outputs": [
    {
     "data": {
      "text/plain": [
       "2.616757384672285"
      ]
     },
     "execution_count": 30,
     "metadata": {},
     "output_type": "execute_result"
    }
   ],
   "source": [
    "my_norm = np.random.normal(0,1)\n",
    "my_norm"
   ]
  },
  {
   "cell_type": "markdown",
   "id": "476b3557",
   "metadata": {},
   "source": [
    "We can create arrays from a range using np.arange. We specify the starting value, the stopping value, and the step size."
   ]
  },
  {
   "cell_type": "code",
   "execution_count": 37,
   "id": "21893d97",
   "metadata": {},
   "outputs": [
    {
     "data": {
      "text/plain": [
       "array([0, 3, 6, 9])"
      ]
     },
     "execution_count": 37,
     "metadata": {},
     "output_type": "execute_result"
    }
   ],
   "source": [
    "range_array = np.arange(0,12,3)\n",
    "#start from 0 -12 and taking gap of 3\n",
    "range_array"
   ]
  },
  {
   "cell_type": "markdown",
   "id": "e555630b",
   "metadata": {},
   "source": [
    "We can call a number of array methods to return descriptive statistics, such as min, max, mean, standard deviation, and sum."
   ]
  },
  {
   "cell_type": "code",
   "execution_count": 35,
   "id": "d4c55d62",
   "metadata": {},
   "outputs": [
    {
     "data": {
      "text/plain": [
       "18"
      ]
     },
     "execution_count": 35,
     "metadata": {},
     "output_type": "execute_result"
    }
   ],
   "source": [
    "range_array.sum()"
   ]
  },
  {
   "cell_type": "code",
   "execution_count": 34,
   "id": "6f58853e",
   "metadata": {},
   "outputs": [
    {
     "data": {
      "text/plain": [
       "4.5"
      ]
     },
     "execution_count": 34,
     "metadata": {},
     "output_type": "execute_result"
    }
   ],
   "source": [
    "range_array.mean()"
   ]
  },
  {
   "cell_type": "code",
   "execution_count": 36,
   "id": "b8ce9edc",
   "metadata": {},
   "outputs": [
    {
     "data": {
      "text/plain": [
       "9"
      ]
     },
     "execution_count": 36,
     "metadata": {},
     "output_type": "execute_result"
    }
   ],
   "source": [
    "range_array.max()"
   ]
  },
  {
   "cell_type": "code",
   "execution_count": null,
   "id": "1cf18d9a",
   "metadata": {},
   "outputs": [],
   "source": []
  }
 ],
 "metadata": {
  "kernelspec": {
   "display_name": "Python 3 (ipykernel)",
   "language": "python",
   "name": "python3"
  },
  "language_info": {
   "codemirror_mode": {
    "name": "ipython",
    "version": 3
   },
   "file_extension": ".py",
   "mimetype": "text/x-python",
   "name": "python",
   "nbconvert_exporter": "python",
   "pygments_lexer": "ipython3",
   "version": "3.10.9"
  }
 },
 "nbformat": 4,
 "nbformat_minor": 5
}
