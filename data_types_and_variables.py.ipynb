{
 "cells": [
  {
   "cell_type": "markdown",
   "id": "abc3e9cc",
   "metadata": {},
   "source": [
    "n = 99.9\n"
   ]
  },
  {
   "cell_type": "code",
   "execution_count": 16,
   "id": "756fe299",
   "metadata": {},
   "outputs": [
    {
     "name": "stdout",
     "output_type": "stream",
     "text": [
      "99.9\n"
     ]
    }
   ],
   "source": [
    "print(n)"
   ]
  },
  {
   "cell_type": "code",
   "execution_count": 3,
   "id": "2911f8f3",
   "metadata": {},
   "outputs": [
    {
     "name": "stdout",
     "output_type": "stream",
     "text": [
      "<class 'float'>\n"
     ]
    }
   ],
   "source": [
    "print(type(n))"
   ]
  },
  {
   "cell_type": "code",
   "execution_count": 4,
   "id": "b77dc3e2",
   "metadata": {},
   "outputs": [],
   "source": [
    "K = \"False\""
   ]
  },
  {
   "cell_type": "code",
   "execution_count": 5,
   "id": "a67e8d18",
   "metadata": {},
   "outputs": [
    {
     "name": "stdout",
     "output_type": "stream",
     "text": [
      "False\n"
     ]
    }
   ],
   "source": [
    "print(K)"
   ]
  },
  {
   "cell_type": "code",
   "execution_count": 6,
   "id": "a65c9297",
   "metadata": {},
   "outputs": [
    {
     "name": "stdout",
     "output_type": "stream",
     "text": [
      "<class 'str'>\n"
     ]
    }
   ],
   "source": [
    "print(type(K))"
   ]
  },
  {
   "cell_type": "code",
   "execution_count": 7,
   "id": "f47a0d8c",
   "metadata": {},
   "outputs": [],
   "source": [
    "N = False"
   ]
  },
  {
   "cell_type": "code",
   "execution_count": 8,
   "id": "f64268c8",
   "metadata": {},
   "outputs": [
    {
     "name": "stdout",
     "output_type": "stream",
     "text": [
      "<class 'bool'>\n"
     ]
    }
   ],
   "source": [
    "print(type(N))"
   ]
  },
  {
   "cell_type": "code",
   "execution_count": 9,
   "id": "fc608c29",
   "metadata": {},
   "outputs": [],
   "source": [
    "C = 'O'"
   ]
  },
  {
   "cell_type": "code",
   "execution_count": 11,
   "id": "847a0b42",
   "metadata": {},
   "outputs": [
    {
     "name": "stdout",
     "output_type": "stream",
     "text": [
      "<class 'str'>\n"
     ]
    }
   ],
   "source": [
    "print(type(C))"
   ]
  },
  {
   "cell_type": "code",
   "execution_count": 20,
   "id": "08caf414",
   "metadata": {},
   "outputs": [],
   "source": [
    "D = True"
   ]
  },
  {
   "cell_type": "code",
   "execution_count": 21,
   "id": "378161d9",
   "metadata": {},
   "outputs": [
    {
     "name": "stdout",
     "output_type": "stream",
     "text": [
      "<class 'bool'>\n"
     ]
    }
   ],
   "source": [
    "print(type(D))"
   ]
  },
  {
   "cell_type": "code",
   "execution_count": 22,
   "id": "a55abecc",
   "metadata": {},
   "outputs": [],
   "source": [
    "E = 'True'"
   ]
  },
  {
   "cell_type": "code",
   "execution_count": 23,
   "id": "c3870be4",
   "metadata": {},
   "outputs": [
    {
     "name": "stdout",
     "output_type": "stream",
     "text": [
      "<class 'str'>\n"
     ]
    }
   ],
   "source": [
    "print(type(E))"
   ]
  },
  {
   "cell_type": "code",
   "execution_count": 24,
   "id": "b9cd686e",
   "metadata": {},
   "outputs": [],
   "source": [
    "M = [{}]"
   ]
  },
  {
   "cell_type": "code",
   "execution_count": 25,
   "id": "7164fae8",
   "metadata": {},
   "outputs": [
    {
     "name": "stdout",
     "output_type": "stream",
     "text": [
      "<class 'list'>\n"
     ]
    }
   ],
   "source": [
    "print(type(M))"
   ]
  },
  {
   "cell_type": "code",
   "execution_count": 26,
   "id": "4d79bb13",
   "metadata": {},
   "outputs": [],
   "source": [
    "B = {'a':[]}"
   ]
  },
  {
   "cell_type": "code",
   "execution_count": 27,
   "id": "bfb397fe",
   "metadata": {},
   "outputs": [
    {
     "name": "stdout",
     "output_type": "stream",
     "text": [
      "<class 'dict'>\n"
     ]
    }
   ],
   "source": [
    "print(type(B))"
   ]
  },
  {
   "cell_type": "markdown",
   "id": "52a5e5db",
   "metadata": {},
   "source": [
    "# 2. What data type would best represent the following?\n",
    "\n",
    " A term or phrase typed into a search box\n",
    " = String\n",
    " \n",
    " Whether or not a user is logged in\n",
    " = Boolean\n",
    " \n",
    " A discount amount to apply to a user's shopping cart\n",
    " = Int/Float\n",
    " \n",
    " Whether or not a coupon code is valid\n",
    " = Boolean\n",
    " \n",
    " An email address typed into a registration form\n",
    " = String\n",
    " \n",
    " The price of a product\n",
    " = Float\n",
    " \n",
    " The email addresses collected from a registration form\n",
    " = List\n",
    " \n",
    " Information about applicants to Codeup's data science program\n",
    " = Dictionary\n"
   ]
  },
  {
   "cell_type": "markdown",
   "id": "70f47b19",
   "metadata": {},
   "source": [
    "Describe the following scenarios. You will need to create and assign variables and use operators.\n",
    "\n"
   ]
  },
  {
   "cell_type": "markdown",
   "id": "f4e306d8",
   "metadata": {},
   "source": [
    "# 5.You have rented some movies for your kids:\n",
    "\n",
    "The Little Mermaid for 3 days\n",
    "\n",
    "Brother Bear for 5 days\n",
    "\n",
    "Hercules for 1 day\n",
    "\n",
    "If the daily fee to rent a movie is 3 dollars, how much will you have to pay?\n",
    "\n"
   ]
  },
  {
   "cell_type": "code",
   "execution_count": 1,
   "id": "cd98a71d",
   "metadata": {},
   "outputs": [],
   "source": [
    "Little_mermaid_days = 3"
   ]
  },
  {
   "cell_type": "code",
   "execution_count": 2,
   "id": "4245249a",
   "metadata": {},
   "outputs": [],
   "source": [
    "Brother_Bear_days = 5"
   ]
  },
  {
   "cell_type": "code",
   "execution_count": 3,
   "id": "3d708ce8",
   "metadata": {},
   "outputs": [],
   "source": [
    "Hercules_days = 1"
   ]
  },
  {
   "cell_type": "code",
   "execution_count": 4,
   "id": "87e69467",
   "metadata": {},
   "outputs": [],
   "source": [
    "daily_rental = 3"
   ]
  },
  {
   "cell_type": "code",
   "execution_count": 7,
   "id": "0b38dfc5",
   "metadata": {},
   "outputs": [],
   "source": [
    "Total_payments = (Little_mermaid_days + Brother_Bear_days + Hercules_days) * daily_rental"
   ]
  },
  {
   "cell_type": "code",
   "execution_count": 9,
   "id": "df311d4c",
   "metadata": {},
   "outputs": [
    {
     "name": "stdout",
     "output_type": "stream",
     "text": [
      "27\n"
     ]
    }
   ],
   "source": [
    "print(Total_payments)"
   ]
  },
  {
   "cell_type": "markdown",
   "id": "86996e9b",
   "metadata": {},
   "source": [
    "# 6. Suppose you're working as a contractor for 3 companies: Google, Amazon and Facebook.\n",
    "\n",
    "They pay you the following hourly rates:\n",
    "\n",
    "Google: 400 dollars\n",
    "\n",
    "Amazon: 380 dollars\n",
    "\n",
    "Facebook: 350 dollars\n",
    "\n",
    "This week you worked: 10 hours for Facebook, 6 hours for Google and 4 hours for Amazon.\n",
    "\n",
    "# How much will you receive in payment for this week?"
   ]
  },
  {
   "cell_type": "code",
   "execution_count": 10,
   "id": "99af49a4",
   "metadata": {},
   "outputs": [],
   "source": [
    "google_hourly_rate = 400"
   ]
  },
  {
   "cell_type": "code",
   "execution_count": 11,
   "id": "86bb3941",
   "metadata": {},
   "outputs": [],
   "source": [
    "amazon_hourly_rate = 380"
   ]
  },
  {
   "cell_type": "code",
   "execution_count": 20,
   "id": "c917fdbd",
   "metadata": {},
   "outputs": [],
   "source": [
    "facebook_hourly_rate = 350"
   ]
  },
  {
   "cell_type": "code",
   "execution_count": 13,
   "id": "899c5428",
   "metadata": {},
   "outputs": [],
   "source": [
    "google_work_hour = 6"
   ]
  },
  {
   "cell_type": "code",
   "execution_count": 14,
   "id": "6dd83c32",
   "metadata": {},
   "outputs": [],
   "source": [
    "amazon_work_hour = 4"
   ]
  },
  {
   "cell_type": "code",
   "execution_count": 16,
   "id": "a5786a70",
   "metadata": {},
   "outputs": [],
   "source": [
    "facebook_work_hour = 10"
   ]
  },
  {
   "cell_type": "code",
   "execution_count": 21,
   "id": "a5c1ab98",
   "metadata": {},
   "outputs": [],
   "source": [
    "Total_payment = (google_hourly_rate * google_work_hour) + (amazon_hourly_rate * amazon_work_hour) + (facebook_hourly_rate * facebook_work_hour)"
   ]
  },
  {
   "cell_type": "code",
   "execution_count": 22,
   "id": "f46ec0ea",
   "metadata": {},
   "outputs": [
    {
     "name": "stdout",
     "output_type": "stream",
     "text": [
      "7420\n"
     ]
    }
   ],
   "source": [
    "print(Total_payment)"
   ]
  },
  {
   "cell_type": "markdown",
   "id": "8fe62ab6",
   "metadata": {},
   "source": [
    "# 7.A student can be enrolled to a class only if the class is not full and the class schedule does not conflict with her current schedule.\n"
   ]
  },
  {
   "cell_type": "code",
   "execution_count": 29,
   "id": "b427d626",
   "metadata": {},
   "outputs": [],
   "source": [
    "class_is_full = True"
   ]
  },
  {
   "cell_type": "code",
   "execution_count": 24,
   "id": "8c019c61",
   "metadata": {},
   "outputs": [],
   "source": [
    "schedule_conflict = False"
   ]
  },
  {
   "cell_type": "code",
   "execution_count": 25,
   "id": "a3700ec8",
   "metadata": {},
   "outputs": [
    {
     "data": {
      "text/plain": [
       "True"
      ]
     },
     "execution_count": 25,
     "metadata": {},
     "output_type": "execute_result"
    }
   ],
   "source": [
    " not class_is_full "
   ]
  },
  {
   "cell_type": "code",
   "execution_count": 27,
   "id": "499e6cf4",
   "metadata": {},
   "outputs": [
    {
     "data": {
      "text/plain": [
       "True"
      ]
     },
     "execution_count": 27,
     "metadata": {},
     "output_type": "execute_result"
    }
   ],
   "source": [
    "not schedule_conflict "
   ]
  },
  {
   "cell_type": "code",
   "execution_count": 30,
   "id": "23382697",
   "metadata": {},
   "outputs": [
    {
     "data": {
      "text/plain": [
       "False"
      ]
     },
     "execution_count": 30,
     "metadata": {},
     "output_type": "execute_result"
    }
   ],
   "source": [
    "not class_is_full and not schedule_conflict "
   ]
  },
  {
   "cell_type": "markdown",
   "id": "cef18991",
   "metadata": {},
   "source": [
    "# 8. A product offer can be applied only if people buys more than 2 items, and the offer has not expired. Premium members do not need to buy a specific amount of products.\n",
    "\n"
   ]
  },
  {
   "cell_type": "code",
   "execution_count": 32,
   "id": "31e60e72",
   "metadata": {},
   "outputs": [],
   "source": [
    "is_premium_members = True"
   ]
  },
  {
   "cell_type": "code",
   "execution_count": 33,
   "id": "e26bd889",
   "metadata": {},
   "outputs": [],
   "source": [
    "offer_expired = False "
   ]
  },
  {
   "cell_type": "code",
   "execution_count": 39,
   "id": "f5be280d",
   "metadata": {},
   "outputs": [],
   "source": [
    "number_of_item_purchase = 3"
   ]
  },
  {
   "cell_type": "code",
   "execution_count": 40,
   "id": "34cc1571",
   "metadata": {},
   "outputs": [
    {
     "data": {
      "text/plain": [
       "False"
      ]
     },
     "execution_count": 40,
     "metadata": {},
     "output_type": "execute_result"
    }
   ],
   "source": [
    "not is_premium_members"
   ]
  },
  {
   "cell_type": "code",
   "execution_count": 41,
   "id": "52c2bdcd",
   "metadata": {},
   "outputs": [
    {
     "data": {
      "text/plain": [
       "True"
      ]
     },
     "execution_count": 41,
     "metadata": {},
     "output_type": "execute_result"
    }
   ],
   "source": [
    "not offer_expired"
   ]
  },
  {
   "cell_type": "code",
   "execution_count": 45,
   "id": "a0511b9c",
   "metadata": {},
   "outputs": [
    {
     "data": {
      "text/plain": [
       "False"
      ]
     },
     "execution_count": 45,
     "metadata": {},
     "output_type": "execute_result"
    }
   ],
   "source": [
    "not number_of_item_purchase"
   ]
  },
  {
   "cell_type": "code",
   "execution_count": 46,
   "id": "d8e7f996",
   "metadata": {},
   "outputs": [
    {
     "data": {
      "text/plain": [
       "True"
      ]
     },
     "execution_count": 46,
     "metadata": {},
     "output_type": "execute_result"
    }
   ],
   "source": [
    "(number_of_item_purchase > 2 or is_premium_members) and not offer_expired"
   ]
  },
  {
   "cell_type": "markdown",
   "id": "a6b11c38",
   "metadata": {},
   "source": [
    "# 9. Create a variable that holds a boolean value for each of the following conditions:\n",
    "\n",
    "The password must be at least 5 characters\n",
    "\n",
    "The username must be no more than 20 characters\n",
    "\n",
    "The password must not be the same as the username"
   ]
  },
  {
   "cell_type": "code",
   "execution_count": 7,
   "id": "9352d85b",
   "metadata": {},
   "outputs": [],
   "source": [
    "username = 'codeup'\n",
    "password = 'notastrongpassword'\n"
   ]
  },
  {
   "cell_type": "code",
   "execution_count": 8,
   "id": "b09510f9",
   "metadata": {},
   "outputs": [
    {
     "data": {
      "text/plain": [
       "True"
      ]
     },
     "execution_count": 8,
     "metadata": {},
     "output_type": "execute_result"
    }
   ],
   "source": [
    " len (password) >= 5"
   ]
  },
  {
   "cell_type": "code",
   "execution_count": 9,
   "id": "921404b4",
   "metadata": {},
   "outputs": [
    {
     "data": {
      "text/plain": [
       "True"
      ]
     },
     "execution_count": 9,
     "metadata": {},
     "output_type": "execute_result"
    }
   ],
   "source": [
    "len(username) < 20"
   ]
  },
  {
   "cell_type": "code",
   "execution_count": 10,
   "id": "78bd8cab",
   "metadata": {},
   "outputs": [
    {
     "data": {
      "text/plain": [
       "True"
      ]
     },
     "execution_count": 10,
     "metadata": {},
     "output_type": "execute_result"
    }
   ],
   "source": [
    " username != password"
   ]
  },
  {
   "cell_type": "markdown",
   "id": "4dcabad9",
   "metadata": {},
   "source": [
    "# 10.Bonus Neither the username or password can start or end with whitespace\n",
    "\n",
    "\n",
    "username = 'codeup'\n",
    "password = 'notastrongpassword'\n"
   ]
  },
  {
   "cell_type": "code",
   "execution_count": 11,
   "id": "c324f22b",
   "metadata": {},
   "outputs": [
    {
     "data": {
      "text/plain": [
       "True"
      ]
     },
     "execution_count": 11,
     "metadata": {},
     "output_type": "execute_result"
    }
   ],
   "source": [
    "username[0] != \" \"  and username[-1] != \" \""
   ]
  },
  {
   "cell_type": "code",
   "execution_count": 12,
   "id": "80e03b06",
   "metadata": {},
   "outputs": [
    {
     "data": {
      "text/plain": [
       "True"
      ]
     },
     "execution_count": 12,
     "metadata": {},
     "output_type": "execute_result"
    }
   ],
   "source": [
    "password[0] != \" \" and password [-1] != \" \""
   ]
  },
  {
   "cell_type": "code",
   "execution_count": null,
   "id": "ed3da65c",
   "metadata": {},
   "outputs": [],
   "source": []
  }
 ],
 "metadata": {
  "kernelspec": {
   "display_name": "Python 3 (ipykernel)",
   "language": "python",
   "name": "python3"
  },
  "language_info": {
   "codemirror_mode": {
    "name": "ipython",
    "version": 3
   },
   "file_extension": ".py",
   "mimetype": "text/x-python",
   "name": "python",
   "nbconvert_exporter": "python",
   "pygments_lexer": "ipython3",
   "version": "3.10.9"
  }
 },
 "nbformat": 4,
 "nbformat_minor": 5
}
