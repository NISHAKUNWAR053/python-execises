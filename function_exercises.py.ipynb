{
 "cells": [
  {
   "cell_type": "markdown",
   "id": "69c25c45",
   "metadata": {},
   "source": [
    "1. Define a function named is_two. It should accept one input and return True if the passed input is either the number or the string 2, False otherwise."
   ]
  },
  {
   "cell_type": "code",
   "execution_count": null,
   "id": "eb2095cc",
   "metadata": {},
   "outputs": [
    {
     "name": "stdout",
     "output_type": "stream",
     "text": [
      "True\n",
      "True\n",
      "False\n",
      "False\n",
      "False\n"
     ]
    }
   ],
   "source": [
    "def is_two(input):\n",
    "    \n",
    "    return input == 2 or input == '2'\n",
    "\n",
    "print(is_two(2))       \n",
    "print(is_two('2'))     \n",
    "print(is_two(3))       \n",
    "print(is_two(4))     \n",
    "print(is_two('two'))   "
   ]
  },
  {
   "cell_type": "markdown",
   "id": "fd278632",
   "metadata": {},
   "source": [
    "2. Define a function named is_vowel. It should return True if the passed string is a vowel, False otherwise."
   ]
  },
  {
   "cell_type": "code",
   "execution_count": 9,
   "id": "bac66707",
   "metadata": {},
   "outputs": [
    {
     "name": "stdout",
     "output_type": "stream",
     "text": [
      "True\n",
      "True\n",
      "False\n"
     ]
    }
   ],
   "source": [
    "def is_vowel(string):\n",
    "    \n",
    "    vowels = ['a','e','i','o','u']\n",
    "    return string.lower() in vowels\n",
    "\n",
    "print(is_vowel('a'))\n",
    "print(is_vowel('A'))\n",
    "print(is_vowel('d'))"
   ]
  },
  {
   "cell_type": "markdown",
   "id": "487fcdad",
   "metadata": {},
   "source": [
    "3. Define a function named is_consonant. It should return True if the passed string is a consonant, False otherwise. Use your is_vowel function to accomplish this."
   ]
  },
  {
   "cell_type": "code",
   "execution_count": 14,
   "id": "189c7f3a",
   "metadata": {},
   "outputs": [
    {
     "name": "stdout",
     "output_type": "stream",
     "text": [
      "False\n",
      "False\n",
      "False\n"
     ]
    }
   ],
   "source": [
    "def is_consonant(string):\n",
    "    \n",
    "        return False\n",
    "   \n",
    "        return True\n",
    "print(is_consonant('i'))\n",
    "print(is_consonant('e'))\n",
    "print(is_consonant('k'))\n",
    "\n"
   ]
  },
  {
   "cell_type": "markdown",
   "id": "a2cf2b41",
   "metadata": {},
   "source": [
    "4. Define a function that accepts a string that is a word. The function should capitalize the first letter of the word if the word starts with a consonant.\n"
   ]
  },
  {
   "cell_type": "code",
   "execution_count": 38,
   "id": "8e9f4eed",
   "metadata": {},
   "outputs": [
    {
     "name": "stdout",
     "output_type": "stream",
     "text": [
      "Nisha\n",
      "Sha\n",
      "ell\n"
     ]
    }
   ],
   "source": [
    "def capitalize_first_letter(word):\n",
    "    \n",
    "    vowels = 'aeiou'\n",
    "    \n",
    "    if word and word[0].lower() not in vowels:\n",
    "        \n",
    "        word = word.capitalize()\n",
    "        \n",
    "    return word\n",
    "\n",
    "print(capitalize_first_letter('nisha'))\n",
    "print(capitalize_first_letter('sha'))\n",
    "print(capitalize_first_letter('ell'))\n",
    "\n"
   ]
  },
  {
   "cell_type": "code",
   "execution_count": 18,
   "id": "53c5daab",
   "metadata": {},
   "outputs": [
    {
     "name": "stdout",
     "output_type": "stream",
     "text": [
      "Nisha\n",
      "isha\n"
     ]
    }
   ],
   "source": [
    "def capitalize_first_letter(word):\n",
    "    \n",
    "    consonants = 'bcdfghjklmnpqrstvwxyz'\n",
    "    \n",
    "    if word and word[0].lower() in consonants:\n",
    "        \n",
    "        word = word.capitalize()\n",
    "        \n",
    "    return word\n",
    "print(capitalize_first_letter('nisha'))\n",
    "print(capitalize_first_letter('isha'))\n"
   ]
  },
  {
   "cell_type": "markdown",
   "id": "f1855430",
   "metadata": {},
   "source": [
    "5. Define a function named calculate_tip. It should accept a tip percentage (a number between 0 and 1) and the bill total, and return the amount to tip.\n"
   ]
  },
  {
   "cell_type": "code",
   "execution_count": 37,
   "id": "26a20be9",
   "metadata": {},
   "outputs": [
    {
     "name": "stdout",
     "output_type": "stream",
     "text": [
      "Enter tip (between 0 and 1):0.5\n",
      "Enter the total bil:90\n",
      "The tip you got 45.0\n"
     ]
    }
   ],
   "source": [
    "def calculate_tip(tip_percent, bill_total):\n",
    "    if tip_percent <=1:\n",
    "        tip_amount = tip_percent * bill_total\n",
    "        return tip_amount\n",
    "    else:\n",
    "        return \"Please number between 0 and 1.\"\n",
    "tip_percent = float(input(\"Enter tip (between 0 and 1):\"))\n",
    "bill_total = float(input(\"Enter the total bil:\"))\n",
    "\n",
    "tip = calculate_tip(tip_percent, bill_total)\n",
    "print(\"The tip you got\", tip)\n"
   ]
  },
  {
   "cell_type": "code",
   "execution_count": 15,
   "id": "ecac1a09",
   "metadata": {},
   "outputs": [],
   "source": [
    "#another way to code is\n",
    "def calculate_tip(bill,pecentage):\n",
    "    return bill*percentage"
   ]
  },
  {
   "cell_type": "markdown",
   "id": "7762d0e5",
   "metadata": {},
   "source": [
    "6. Define a function named apply_discount. It should accept a original price, and a discount percentage, and return the price after the discount is applied."
   ]
  },
  {
   "cell_type": "code",
   "execution_count": null,
   "id": "8983fcf5",
   "metadata": {},
   "outputs": [],
   "source": []
  },
  {
   "cell_type": "code",
   "execution_count": 59,
   "id": "5af1260a",
   "metadata": {},
   "outputs": [
    {
     "name": "stdout",
     "output_type": "stream",
     "text": [
      "Enter the original price: 100\n",
      "Enter the discount percentage (between 0 and 100): .15\n",
      "The discounted price is: 99.85\n"
     ]
    }
   ],
   "source": [
    "def apply_discount(original_price, discount_percentage):\n",
    "    if  discount_percentage <= 100:\n",
    "        discount_amount = (discount_percentage / 100) * original_price\n",
    "        discounted_price = original_price - discount_amount\n",
    "        return discounted_price\n",
    "    else:\n",
    "        return \"Invalid, Please enter a value between 0 and 100.\"\n",
    "    \n",
    "original_price = float(input(\"Enter the original price: \"))\n",
    "discount_percent = float(input(\"Enter the discount percentage (between 0 and 100): \"))\n",
    "\n",
    "discounted_price = apply_discount(original_price, discount_percent)\n",
    "print(\"The discounted price is:\", discounted_price)\n",
    "\n"
   ]
  },
  {
   "cell_type": "code",
   "execution_count": 18,
   "id": "713c99e6",
   "metadata": {},
   "outputs": [
    {
     "data": {
      "text/plain": [
       "85.0"
      ]
     },
     "execution_count": 18,
     "metadata": {},
     "output_type": "execute_result"
    }
   ],
   "source": [
    "#another way to do \n",
    "def apply_discount(price, discount):\n",
    "    return price - (price * discount)\n",
    "\n",
    "apply_discount(100, .15)"
   ]
  },
  {
   "cell_type": "markdown",
   "id": "a88761b4",
   "metadata": {},
   "source": [
    "7. Define a function named handle_commas. It should accept a string that is a number that contains commas in it as input, and return a number as output."
   ]
  },
  {
   "cell_type": "code",
   "execution_count": 19,
   "id": "0a292423",
   "metadata": {},
   "outputs": [
    {
     "name": "stdout",
     "output_type": "stream",
     "text": [
      "1234567\n"
     ]
    }
   ],
   "source": [
    "def handle_commas(number_string):\n",
    "    number_without_commas = number_string.replace(\",\", \"\")\n",
    "    return int(number_without_commas)\n",
    "\n",
    "input_number = \"1,234,567\"\n",
    "result = handle_commas(input_number)\n",
    "print(result) "
   ]
  },
  {
   "cell_type": "markdown",
   "id": "03df5db6",
   "metadata": {},
   "source": [
    "8.Define a function named get_letter_grade. It should accept a number and return the letter grade associated with that number (A-F).\n"
   ]
  },
  {
   "cell_type": "code",
   "execution_count": 24,
   "id": "dbb6f049",
   "metadata": {},
   "outputs": [
    {
     "name": "stdout",
     "output_type": "stream",
     "text": [
      "A\n"
     ]
    }
   ],
   "source": [
    "def get_letter_grade(score):\n",
    "    if score >= 90:\n",
    "        return \"A\"\n",
    "    elif score >= 80:\n",
    "        return \"B\"\n",
    "    elif score >= 70:\n",
    "        return \"C\"\n",
    "    elif score >= 60:\n",
    "        return \"D\"\n",
    "    else:\n",
    "        return \"F\"\n",
    "input_score = 95\n",
    "result = get_letter_grade(input_score)\n",
    "print(result)  \n",
    "\n"
   ]
  },
  {
   "cell_type": "markdown",
   "id": "1f577aa0",
   "metadata": {},
   "source": [
    "9. Define a function named remove_vowels that accepts a string and returns a string with all the vowels removed.\n"
   ]
  },
  {
   "cell_type": "code",
   "execution_count": 25,
   "id": "340e4a26",
   "metadata": {},
   "outputs": [
    {
     "name": "stdout",
     "output_type": "stream",
     "text": [
      "Hll, Wrld!\n"
     ]
    }
   ],
   "source": [
    "def remove_vowels(input_string):\n",
    "    vowels = \"aeiouAEIOU\"\n",
    "    result = \"\"\n",
    "    for char in input_string:\n",
    "        if char not in vowels:\n",
    "            result += char\n",
    "    return result\n",
    "\n",
    "input_string = \"Hello, World!\"\n",
    "result = remove_vowels(input_string)\n",
    "print(result)  "
   ]
  },
  {
   "cell_type": "markdown",
   "id": "a6bf16e4",
   "metadata": {},
   "source": [
    "10. Define a function named normalize_name. It should accept a string and return a valid python identifier, that is:\n",
    "\n",
    ". anything that is not a valid python identifier should be removed\n",
    "\n",
    ". leading and trailing whitespace should be removed\n",
    "\n",
    ". everything should be lowercase\n",
    "\n",
    ". spaces should be replaced with underscores\n",
    "\n",
    ". for example:\n",
    "\n",
    "  . Name will become name\n",
    "  \n",
    "  . First Name will become first_name\n",
    "  \n",
    "  . % Completed will become completed"
   ]
  },
  {
   "cell_type": "code",
   "execution_count": 58,
   "id": "501c8149",
   "metadata": {},
   "outputs": [
    {
     "ename": "NameError",
     "evalue": "name 'letter_isalum' is not defined",
     "output_type": "error",
     "traceback": [
      "\u001b[0;31m---------------------------------------------------------------------------\u001b[0m",
      "\u001b[0;31mNameError\u001b[0m                                 Traceback (most recent call last)",
      "Cell \u001b[0;32mIn[58], line 21\u001b[0m\n\u001b[1;32m     18\u001b[0m         new_string \u001b[38;5;241m=\u001b[39m new_string[:\u001b[38;5;241m1\u001b[39m]\n\u001b[1;32m     19\u001b[0m     \u001b[38;5;28;01mreturn\u001b[39;00m new_string\n\u001b[0;32m---> 21\u001b[0m \u001b[38;5;28mprint\u001b[39m(\u001b[43mnormalize_name\u001b[49m\u001b[43m(\u001b[49m\u001b[38;5;124;43m'\u001b[39;49m\u001b[38;5;124;43mname\u001b[39;49m\u001b[38;5;124;43m'\u001b[39;49m\u001b[43m)\u001b[49m)\n",
      "Cell \u001b[0;32mIn[58], line 8\u001b[0m, in \u001b[0;36mnormalize_name\u001b[0;34m(input)\u001b[0m\n\u001b[1;32m      5\u001b[0m \u001b[38;5;28minput\u001b[39m\u001b[38;5;241m.\u001b[39mstrip()\n\u001b[1;32m      6\u001b[0m \u001b[38;5;28;01mfor\u001b[39;00m letter \u001b[38;5;129;01min\u001b[39;00m \u001b[38;5;28minput\u001b[39m:\n\u001b[1;32m      7\u001b[0m     \u001b[38;5;66;03m# if a letter is true for letter or number\u001b[39;00m\n\u001b[0;32m----> 8\u001b[0m     \u001b[38;5;28;01mif\u001b[39;00m \u001b[43mletter_isalum\u001b[49m() \u001b[38;5;241m==\u001b[39m \u001b[38;5;28;01mTrue\u001b[39;00m:\n\u001b[1;32m      9\u001b[0m         new_string \u001b[38;5;241m+\u001b[39m\u001b[38;5;241m=\u001b[39m letter\u001b[38;5;241m.\u001b[39mlower()\n\u001b[1;32m     10\u001b[0m     \u001b[38;5;66;03m# checks for leading alpanumeric with a space and replace with_\u001b[39;00m\n",
      "\u001b[0;31mNameError\u001b[0m: name 'letter_isalum' is not defined"
     ]
    }
   ],
   "source": [
    "def normalize_name(input):\n",
    "    new_string = ''\n",
    "    prev_letter = ''\n",
    "    # remove leading and ending witespace\n",
    "    input.strip()\n",
    "    for letter in input:\n",
    "        # if a letter is true for letter or number\n",
    "        if letter.isalum() == True:\n",
    "            new_string += letter.lower()\n",
    "        # checks for leading alpanumeric with a space and replace with_\n",
    "        elif letter == '' and prev_letter.isalnum() == True:\n",
    "            new_string += '_'\n",
    "         #increment to the next letter and save it too previous letter\n",
    "        else:\n",
    "            new_string +''\n",
    "            prev_letter = letter\n",
    "    if new_string [len(new_string)-1] == '_':\n",
    "        new_string = new_string[:1]\n",
    "    return new_string\n",
    "\n",
    "print(normalize_name('name'))"
   ]
  },
  {
   "cell_type": "markdown",
   "id": "b1590d28",
   "metadata": {},
   "source": [
    "11. Write a function named cumulative_sum that accepts a list of numbers and returns a list that is the cumulative sum of the numbers in the list.\n",
    "\n",
    "cumulative_sum([1, 1, 1]) returns [1, 2, 3]\n",
    "\n",
    "cumulative_sum([1, 2, 3, 4]) returns [1, 3, 6, 10]\n"
   ]
  },
  {
   "cell_type": "code",
   "execution_count": 57,
   "id": "806360de",
   "metadata": {},
   "outputs": [
    {
     "name": "stdout",
     "output_type": "stream",
     "text": [
      "[1, 2, 3]\n",
      "[1, 3, 6, 10]\n"
     ]
    }
   ],
   "source": [
    "def cumulative_sum(input):\n",
    "    new_list = []\n",
    "    count = 1\n",
    "    for num in input:\n",
    "        list_sum = sum(input[:count])\n",
    "        new_list.append(list_sum)\n",
    "        count += 1\n",
    "    return new_list\n",
    "\n",
    "print(cumulative_sum([1, 1, 1]))\n",
    "print(cumulative_sum([1, 2, 3, 4]))"
   ]
  },
  {
   "cell_type": "code",
   "execution_count": null,
   "id": "1a766c5a",
   "metadata": {},
   "outputs": [],
   "source": []
  }
 ],
 "metadata": {
  "kernelspec": {
   "display_name": "Python 3 (ipykernel)",
   "language": "python",
   "name": "python3"
  },
  "language_info": {
   "codemirror_mode": {
    "name": "ipython",
    "version": 3
   },
   "file_extension": ".py",
   "mimetype": "text/x-python",
   "name": "python",
   "nbconvert_exporter": "python",
   "pygments_lexer": "ipython3",
   "version": "3.10.9"
  }
 },
 "nbformat": 4,
 "nbformat_minor": 5
}
