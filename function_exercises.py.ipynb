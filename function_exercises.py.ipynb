{
 "cells": [
  {
   "cell_type": "markdown",
   "id": "69c25c45",
   "metadata": {},
   "source": [
    "1. Define a function named is_two. It should accept one input and return True if the passed input is either the number or the string 2, False otherwise."
   ]
  },
  {
   "cell_type": "code",
   "execution_count": 6,
   "id": "eb2095cc",
   "metadata": {},
   "outputs": [
    {
     "name": "stdout",
     "output_type": "stream",
     "text": [
      "True\n",
      "True\n",
      "False\n",
      "True\n",
      "False\n"
     ]
    }
   ],
   "source": [
    "def is_two(input):\n",
    "    \n",
    "    return input == 2 or input == '2'\n",
    "\n",
    "print(is_two(2))       \n",
    "print(is_two('2'))     \n",
    "print(is_two(3))       \n",
    "print(is_two(2))     \n",
    "print(is_two('two'))   "
   ]
  },
  {
   "cell_type": "markdown",
   "id": "fd278632",
   "metadata": {},
   "source": [
    "2. Define a function named is_vowel. It should return True if the passed string is a vowel, False otherwise."
   ]
  },
  {
   "cell_type": "code",
   "execution_count": 9,
   "id": "bac66707",
   "metadata": {},
   "outputs": [
    {
     "name": "stdout",
     "output_type": "stream",
     "text": [
      "True\n",
      "True\n",
      "False\n"
     ]
    }
   ],
   "source": [
    "def is_vowel(string):\n",
    "    \n",
    "    vowels = ['a','e','i','o','u']\n",
    "    return string.lower() in vowels\n",
    "\n",
    "print(is_vowel('a'))\n",
    "print(is_vowel('A'))\n",
    "print(is_vowel('d'))"
   ]
  },
  {
   "cell_type": "markdown",
   "id": "487fcdad",
   "metadata": {},
   "source": [
    "3. Define a function named is_consonant. It should return True if the passed string is a consonant, False otherwise. Use your is_vowel function to accomplish this."
   ]
  },
  {
   "cell_type": "code",
   "execution_count": 10,
   "id": "189c7f3a",
   "metadata": {},
   "outputs": [
    {
     "name": "stdout",
     "output_type": "stream",
     "text": [
      "True\n",
      "False\n",
      "True\n"
     ]
    }
   ],
   "source": [
    "def is_consonant(string):\n",
    "    \n",
    "    return not is_vowel(string)\n",
    "\n",
    "print(is_consonant('B'))\n",
    "print(is_consonant('e'))\n",
    "print(is_consonant('k'))"
   ]
  },
  {
   "cell_type": "markdown",
   "id": "a2cf2b41",
   "metadata": {},
   "source": [
    "4. Define a function that accepts a string that is a word. The function should capitalize the first letter of the word if the word starts with a consonant.\n"
   ]
  },
  {
   "cell_type": "code",
   "execution_count": 38,
   "id": "8e9f4eed",
   "metadata": {},
   "outputs": [
    {
     "name": "stdout",
     "output_type": "stream",
     "text": [
      "Nisha\n",
      "Sha\n",
      "ell\n"
     ]
    }
   ],
   "source": [
    "def capitalize_first_letter(word):\n",
    "    \n",
    "    vowels = 'aeiou'\n",
    "    \n",
    "    if word and word[0].lower() not in vowels:\n",
    "        \n",
    "        word = word.capitalize()\n",
    "        \n",
    "    return word\n",
    "\n",
    "print(capitalize_first_letter('nisha'))\n",
    "print(capitalize_first_letter('sha'))\n",
    "print(capitalize_first_letter('ell'))\n",
    "\n"
   ]
  },
  {
   "cell_type": "code",
   "execution_count": 18,
   "id": "53c5daab",
   "metadata": {},
   "outputs": [
    {
     "name": "stdout",
     "output_type": "stream",
     "text": [
      "Nisha\n",
      "isha\n"
     ]
    }
   ],
   "source": [
    "def capitalize_first_letter(word):\n",
    "    \n",
    "    consonants = 'bcdfghjklmnpqrstvwxyz'\n",
    "    \n",
    "    if word and word[0].lower() in consonants:\n",
    "        \n",
    "        word = word.capitalize()\n",
    "        \n",
    "    return word\n",
    "print(capitalize_first_letter('nisha'))\n",
    "print(capitalize_first_letter('isha'))\n"
   ]
  },
  {
   "cell_type": "markdown",
   "id": "f1855430",
   "metadata": {},
   "source": [
    "5. Define a function named calculate_tip. It should accept a tip percentage (a number between 0 and 1) and the bill total, and return the amount to tip.\n"
   ]
  },
  {
   "cell_type": "code",
   "execution_count": 37,
   "id": "26a20be9",
   "metadata": {},
   "outputs": [
    {
     "name": "stdout",
     "output_type": "stream",
     "text": [
      "Enter tip (between 0 and 1):0.5\n",
      "Enter the total bil:90\n",
      "The tip you got 45.0\n"
     ]
    }
   ],
   "source": [
    "def calculate_tip(tip_percent, bill_total):\n",
    "    if tip_percent <=1:\n",
    "        tip_amount = tip_percent * bill_total\n",
    "        return tip_amount\n",
    "    else:\n",
    "        return \"Please number between 0 and 1.\"\n",
    "tip_percent = float(input(\"Enter tip (between 0 and 1):\"))\n",
    "bill_total = float(input(\"Enter the total bil:\"))\n",
    "\n",
    "tip = calculate_tip(tip_percent, bill_total)\n",
    "print(\"The tip you got\", tip)\n"
   ]
  },
  {
   "cell_type": "markdown",
   "id": "7762d0e5",
   "metadata": {},
   "source": [
    "6. Define a function named apply_discount. It should accept a original price, and a discount percentage, and return the price after the discount is applied."
   ]
  },
  {
   "cell_type": "code",
   "execution_count": null,
   "id": "8983fcf5",
   "metadata": {},
   "outputs": [],
   "source": []
  },
  {
   "cell_type": "code",
   "execution_count": 40,
   "id": "5af1260a",
   "metadata": {},
   "outputs": [
    {
     "name": "stdout",
     "output_type": "stream",
     "text": [
      "Enter the original price: 45\n",
      "Enter the discount percentage (between 0 and 100): 3\n",
      "The discounted price is: 43.65\n"
     ]
    }
   ],
   "source": [
    "def apply_discount(original_price, discount_percentage):\n",
    "    if  discount_percentage <= 100:\n",
    "        discount_amount = (discount_percentage / 100) * original_price\n",
    "        discounted_price = original_price - discount_amount\n",
    "        return discounted_price\n",
    "    else:\n",
    "        return \"Invalid, Please enter a value between 0 and 100.\"\n",
    "    \n",
    "original_price = float(input(\"Enter the original price: \"))\n",
    "discount_percent = float(input(\"Enter the discount percentage (between 0 and 100): \"))\n",
    "\n",
    "discounted_price = apply_discount(original_price, discount_percent)\n",
    "print(\"The discounted price is:\", discounted_price)\n",
    "\n"
   ]
  },
  {
   "cell_type": "code",
   "execution_count": null,
   "id": "38d059c8",
   "metadata": {},
   "outputs": [],
   "source": []
  }
 ],
 "metadata": {
  "kernelspec": {
   "display_name": "Python 3 (ipykernel)",
   "language": "python",
   "name": "python3"
  },
  "language_info": {
   "codemirror_mode": {
    "name": "ipython",
    "version": 3
   },
   "file_extension": ".py",
   "mimetype": "text/x-python",
   "name": "python",
   "nbconvert_exporter": "python",
   "pygments_lexer": "ipython3",
   "version": "3.10.9"
  }
 },
 "nbformat": 4,
 "nbformat_minor": 5
}
