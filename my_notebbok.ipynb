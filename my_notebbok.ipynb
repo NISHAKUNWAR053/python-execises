{
 "cells": [
  {
   "cell_type": "code",
   "execution_count": 1,
   "id": "b31d9854",
   "metadata": {},
   "outputs": [],
   "source": [
    "DS = \" Data science!!\""
   ]
  },
  {
   "cell_type": "code",
   "execution_count": 2,
   "id": "14388f30",
   "metadata": {},
   "outputs": [
    {
     "name": "stdout",
     "output_type": "stream",
     "text": [
      " Data science!!\n"
     ]
    }
   ],
   "source": [
    "print(DS)"
   ]
  },
  {
   "cell_type": "markdown",
   "id": "2f673239",
   "metadata": {},
   "source": [
    "keyboard shortcut Shift + Enter { it is used o execute the current cell}"
   ]
  },
  {
   "cell_type": "code",
   "execution_count": null,
   "id": "3080bf03",
   "metadata": {},
   "outputs": [],
   "source": []
  }
 ],
 "metadata": {
  "kernelspec": {
   "display_name": "Python 3 (ipykernel)",
   "language": "python",
   "name": "python3"
  },
  "language_info": {
   "codemirror_mode": {
    "name": "ipython",
    "version": 3
   },
   "file_extension": ".py",
   "mimetype": "text/x-python",
   "name": "python",
   "nbconvert_exporter": "python",
   "pygments_lexer": "ipython3",
   "version": "3.10.9"
  }
 },
 "nbformat": 4,
 "nbformat_minor": 5
}
