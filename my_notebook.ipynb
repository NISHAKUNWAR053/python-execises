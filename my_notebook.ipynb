{
 "cells": [
  {
   "cell_type": "code",
   "execution_count": 1,
   "id": "11896d54",
   "metadata": {},
   "outputs": [],
   "source": [
    "codeup = \"that helps us to be ds\""
   ]
  },
  {
   "cell_type": "code",
   "execution_count": 2,
   "id": "a5a90801",
   "metadata": {},
   "outputs": [
    {
     "name": "stdout",
     "output_type": "stream",
     "text": [
      "that helps us to be ds\n"
     ]
    }
   ],
   "source": [
    "print(codeup)"
   ]
  },
  {
   "cell_type": "markdown",
   "id": "f9f518bc",
   "metadata": {},
   "source": [
    "Esc +D+D {this shortcut is used to delete the currently selected cell}"
   ]
  }
 ],
 "metadata": {
  "kernelspec": {
   "display_name": "Python 3 (ipykernel)",
   "language": "python",
   "name": "python3"
  },
  "language_info": {
   "codemirror_mode": {
    "name": "ipython",
    "version": 3
   },
   "file_extension": ".py",
   "mimetype": "text/x-python",
   "name": "python",
   "nbconvert_exporter": "python",
   "pygments_lexer": "ipython3",
   "version": "3.10.9"
  }
 },
 "nbformat": 4,
 "nbformat_minor": 5
}
