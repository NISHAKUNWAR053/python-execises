{
 "cells": [
  {
   "cell_type": "code",
   "execution_count": 30,
   "id": "09ce0665",
   "metadata": {},
   "outputs": [],
   "source": [
    "import json\n",
    "import os"
   ]
  },
  {
   "cell_type": "code",
   "execution_count": 31,
   "id": "e44fab42",
   "metadata": {},
   "outputs": [],
   "source": [
    "working_file = \"profiles.json\"\n",
    "balance = 0\n"
   ]
  },
  {
   "cell_type": "code",
   "execution_count": 32,
   "id": "24acd294",
   "metadata": {},
   "outputs": [
    {
     "name": "stdout",
     "output_type": "stream",
     "text": [
      "welcome to Checkbook Application!\n",
      "menu:\n",
      "1. View current balance\n",
      "2. Add a Debit (Withdrawal)\n",
      "3. Add a Credit (Deposit)\n",
      "4. Exit\n",
      "Enter your choice (1-4)2\n"
     ]
    },
    {
     "ename": "NameError",
     "evalue": "name 'add_debit' is not defined",
     "output_type": "error",
     "traceback": [
      "\u001b[0;31m---------------------------------------------------------------------------\u001b[0m",
      "\u001b[0;31mNameError\u001b[0m                                 Traceback (most recent call last)",
      "Cell \u001b[0;32mIn[32], line 16\u001b[0m\n\u001b[1;32m     14\u001b[0m     view_balance()\n\u001b[1;32m     15\u001b[0m \u001b[38;5;28;01melif\u001b[39;00m your_choice \u001b[38;5;241m==\u001b[39m \u001b[38;5;124m'\u001b[39m\u001b[38;5;124m2\u001b[39m\u001b[38;5;124m'\u001b[39m:\n\u001b[0;32m---> 16\u001b[0m     \u001b[43madd_debit\u001b[49m()\n\u001b[1;32m     17\u001b[0m \u001b[38;5;28;01melif\u001b[39;00m your_choice \u001b[38;5;241m==\u001b[39m \u001b[38;5;124m'\u001b[39m\u001b[38;5;124m3\u001b[39m\u001b[38;5;124m'\u001b[39m:\n\u001b[1;32m     18\u001b[0m     add_credit()\n",
      "\u001b[0;31mNameError\u001b[0m: name 'add_debit' is not defined"
     ]
    }
   ],
   "source": [
    "\n",
    "def menu_display ():\n",
    "    print(\"welcome to Checkbook Application!\")\n",
    "    print(\"menu:\")\n",
    "    print(\"1. View current balance\")\n",
    "    print(\"2. Add a Debit (Withdrawal)\")\n",
    "    print(\"3. Add a Credit (Deposit)\")\n",
    "    print(\"4. Exit\")\n",
    "    \n",
    "while True:\n",
    "    menu_display()\n",
    "\n",
    "    your_choice = input(\"Enter your choice (1-4)\")\n",
    "    if your_choice == '1': \n",
    "        view_balance()\n",
    "    elif your_choice == '2':\n",
    "        add_debit()\n",
    "    elif your_choice == '3':\n",
    "        add_credit()\n",
    "    elif your_choice =='4':\n",
    "        exit_program()\n",
    "    else:\n",
    "        print(\"Invalid input: Please try again\")\n",
    "\n",
    "def view_balance():\n",
    "    with open(\"profiles.json\", \"r\") as file:\n",
    "        data = json.load(file)\n",
    "        balance = data.get(\"balance\", 0)\n",
    "    return (print(\"Current balance: $\" + str(balance)))\n",
    "\n",
    "def add_debit():\n",
    "    amount = float(input(\"Enter the amount to be debited: $\"))\n",
    "    with open(\"profile.json\", \"r+\") as file:\n",
    "        data = json.load(file)\n",
    "        balance = data.get(\"balance\", 0)\n",
    "        balance -= amount\n",
    "        data[\"balance\"] = balance\n",
    "        file.seek(0)\n",
    "        json.dump(data, file, indent=4)\n",
    "        print(\"Debit of $\", amount, \" successfully recorded.\")"
   ]
  },
  {
   "cell_type": "code",
   "execution_count": null,
   "id": "dc4c61c3",
   "metadata": {},
   "outputs": [],
   "source": []
  },
  {
   "cell_type": "code",
   "execution_count": null,
   "id": "9f384e52",
   "metadata": {},
   "outputs": [],
   "source": []
  }
 ],
 "metadata": {
  "kernelspec": {
   "display_name": "Python 3 (ipykernel)",
   "language": "python",
   "name": "python3"
  },
  "language_info": {
   "codemirror_mode": {
    "name": "ipython",
    "version": 3
   },
   "file_extension": ".py",
   "mimetype": "text/x-python",
   "name": "python",
   "nbconvert_exporter": "python",
   "pygments_lexer": "ipython3",
   "version": "3.10.9"
  }
 },
 "nbformat": 4,
 "nbformat_minor": 5
}
